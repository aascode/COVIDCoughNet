{
 "cells": [
  {
   "cell_type": "markdown",
   "metadata": {},
   "source": [
    "# Data Preprocessing"
   ]
  },
  {
   "cell_type": "code",
   "execution_count": 1,
   "metadata": {},
   "outputs": [],
   "source": [
    "import numpy as np\n",
    "import librosa\n",
    "def get_melspectrogram_db(file_path, sr=16000, n_fft=2048, hop_length=512, n_mels=128, fmin=20, fmax=8300, top_db=80):\n",
    "    wav,sr = librosa.load(file_path,sr=sr)\n",
    "    if wav.shape[0]<5*sr:\n",
    "        wav=np.pad(wav,int(np.ceil((5*sr-wav.shape[0])/2)),mode='reflect')\n",
    "    else:\n",
    "        wav=wav[:5*sr]\n",
    "    spec=librosa.feature.melspectrogram(wav, sr=sr, n_fft=n_fft,\n",
    "              hop_length=hop_length,n_mels=n_mels,fmin=fmin,fmax=fmax)\n",
    "    spec_db=librosa.power_to_db(spec,top_db=top_db)\n",
    "    return spec_db"
   ]
  },
  {
   "cell_type": "code",
   "execution_count": 2,
   "metadata": {},
   "outputs": [],
   "source": [
    "def spec_to_image(spec, eps=1e-6):\n",
    "    mean = spec.mean()\n",
    "    std = spec.std()\n",
    "    spec_norm = (spec - mean) / (std + eps)\n",
    "    spec_min, spec_max = spec_norm.min(), spec_norm.max()\n",
    "    spec_scaled = 255 * (spec_norm - spec_min) / (spec_max - spec_min)\n",
    "    spec_scaled = spec_scaled.astype(np.uint8)\n",
    "    return spec_scaled"
   ]
  },
  {
   "cell_type": "markdown",
   "metadata": {},
   "source": [
    "# Additional Imports"
   ]
  },
  {
   "cell_type": "code",
   "execution_count": 3,
   "metadata": {},
   "outputs": [],
   "source": [
    "import numpy as np\n",
    "import pandas as pd\n",
    "from torch.utils.data import Dataset, DataLoader\n",
    "from tqdm import tqdm"
   ]
  },
  {
   "cell_type": "markdown",
   "metadata": {},
   "source": [
    "# Create Dataset from Cough Files"
   ]
  },
  {
   "cell_type": "code",
   "execution_count": 4,
   "metadata": {},
   "outputs": [],
   "source": [
    "# Import data from cough dataset\n",
    "import os\n",
    "from torch.utils.data import Dataset\n",
    "\n",
    "POSITIVE_FOLDER = \"pos\"\n",
    "NEGATIVE_FOLDER = \"neg\"\n",
    "\n",
    "ROOT = \"cough_data\"\n",
    "\n",
    "class CoughDataSet(Dataset):\n",
    "    def __init__(self, root=ROOT, dataset_type=\"train\"):\n",
    "        self.root = root\n",
    "        positive_coughs = []\n",
    "        negative_coughs = []\n",
    "        for entry in os.scandir(os.path.join(self.root, os.path.join(dataset_type, POSITIVE_FOLDER))):\n",
    "            if entry.is_file():\n",
    "                positive_coughs.append(entry.path)\n",
    "        for entry in os.scandir(os.path.join(self.root, os.path.join(dataset_type, NEGATIVE_FOLDER))):\n",
    "            if entry.is_file():\n",
    "                negative_coughs.append(entry.path)\n",
    "        data = [] # will contain tuples\n",
    "        labels = []\n",
    "        for filename in positive_coughs:\n",
    "            # Load image\n",
    "            mel_db = get_melspectrogram_db(filename)\n",
    "            # Transform image using spec_to_image and get_melspectrogram_db\n",
    "            spec_img = spec_to_image(mel_db)\n",
    "            data.append(spec_img[np.newaxis,...])\n",
    "            labels.append(0)\n",
    "        for filename in negative_coughs:\n",
    "            # Load image\n",
    "            mel_db = get_melspectrogram_db(filename)\n",
    "            # Transform image using spec_to_image and get_melspectrogram_db\n",
    "            spec_img = spec_to_image(mel_db)\n",
    "            data.append(spec_img[np.newaxis,...])\n",
    "            labels.append(1)\n",
    "        self.data = data\n",
    "        self.labels = labels\n",
    "    def __len__(self):\n",
    "        return len(self.data)\n",
    "    def __getitem__(self, index):\n",
    "        return self.data[index], self.labels[index]\n",
    "        "
   ]
  },
  {
   "cell_type": "code",
   "execution_count": 5,
   "metadata": {},
   "outputs": [],
   "source": [
    "train_data = CoughDataSet()\n",
    "test_data = CoughDataSet(dataset_type=\"test\")\n",
    "valid_data = CoughDataSet(dataset_type=\"val\")\n",
    "train_loader = DataLoader(train_data, batch_size=64, shuffle=True)\n",
    "test_loader = DataLoader(test_data, batch_size=64, shuffle=False)\n",
    "valid_loader = DataLoader(valid_data, batch_size=64, shuffle=True)"
   ]
  },
  {
   "cell_type": "markdown",
   "metadata": {},
   "source": [
    "# Initialize Metrics"
   ]
  },
  {
   "cell_type": "code",
   "execution_count": 6,
   "metadata": {},
   "outputs": [],
   "source": [
    "from ignite.metrics import Accuracy, Precision, Recall\n",
    "from ignite.contrib.metrics import RocCurve\n",
    "\n",
    "# Setup Training Metrics\n",
    "training_metrics = [Accuracy()]\n",
    "\n",
    "for metric in training_metrics:\n",
    "    metric.reset()\n",
    "\n",
    "# Setup Test Metrics\n",
    "metrics = [Accuracy(), Precision(average=False), Recall(average=False), ROC_AUC()]\n",
    "\n",
    "# Add F1 Score as a Metric\n",
    "F1 = (metrics[1] * metrics[2] * 2 / (metrics[1] + metrics[2])).mean()\n",
    "metrics.append(F1)\n",
    "\n",
    "for metric in metrics:\n",
    "    metric.reset()"
   ]
  },
  {
   "cell_type": "markdown",
   "metadata": {},
   "source": [
    "## Setup Tensorboard Logging"
   ]
  },
  {
   "cell_type": "code",
   "execution_count": 7,
   "metadata": {},
   "outputs": [],
   "source": [
    "from torch.utils.tensorboard import SummaryWriter\n",
    "\n",
    "summary_writer = SummaryWriter(\"experiments\", comment=ROOT)"
   ]
  },
  {
   "cell_type": "markdown",
   "metadata": {},
   "source": [
    "# Model"
   ]
  },
  {
   "cell_type": "code",
   "execution_count": 8,
   "metadata": {},
   "outputs": [],
   "source": [
    "from torchvision.models import resnet34\n",
    "import torch\n",
    "import torch.nn as nn\n",
    "import torch.optim as optim\n",
    "if torch.cuda.is_available():\n",
    "    device=torch.device('cuda:0')\n",
    "else:\n",
    "    device=torch.device('cpu')\n",
    "resnet_model = resnet34(pretrained=True)\n",
    "resnet_model.fc = nn.Linear(512,2)\n",
    "resnet_model.conv1 = nn.Conv2d(1, 64, kernel_size=(7, 7), stride=(2, 2), padding=(3, 3), bias=False)\n",
    "resnet_model = resnet_model.to(device)"
   ]
  },
  {
   "cell_type": "code",
   "execution_count": 9,
   "metadata": {},
   "outputs": [],
   "source": [
    "learning_rate = 2e-4\n",
    "start_epoch = 1\n",
    "epochs = 50\n",
    "loss_fn = nn.CrossEntropyLoss()\n",
    "resnet_train_losses=[]\n",
    "resnet_valid_losses=[]"
   ]
  },
  {
   "cell_type": "code",
   "execution_count": 10,
   "metadata": {},
   "outputs": [],
   "source": [
    "optimizer = optim.Adam(resnet_model.parameters(), lr=learning_rate)"
   ]
  },
  {
   "cell_type": "code",
   "execution_count": null,
   "metadata": {},
   "outputs": [],
   "source": [
    "## IN ORDER TO USE AN EXISTING CHECKPOINT FOR CONTINUED TRAINING, RUN THIS BLOCK\n",
    "checkpoint_epoch = 50\n",
    "checkpoint = torch.load('checkpoints/{}_{}.pth'.format(ROOT, checkpoint_epoch))\n",
    "resnet_model.load_state_dict(checkpoint['model_state_dict'])\n",
    "optimizer.load_state_dict(checkpoint['optimizer_state_dict'])\n",
    "# epoch = checkpoint['epoch']\n",
    "# loss = checkpoint['loss']"
   ]
  },
  {
   "cell_type": "code",
   "execution_count": 11,
   "metadata": {},
   "outputs": [],
   "source": [
    "def lr_decay(optimizer, epoch):\n",
    "    if epoch%10==0:\n",
    "        new_lr = learning_rate / (10**(epoch//10))\n",
    "        optimizer = setlr(optimizer, new_lr)\n",
    "        print(f'Changed learning rate to {new_lr}')\n",
    "    return optimizer"
   ]
  },
  {
   "cell_type": "code",
   "execution_count": 12,
   "metadata": {},
   "outputs": [],
   "source": [
    "def train(model, loss_fn, train_loader, valid_loader, epochs, optimizer, train_losses, valid_losses, change_lr=None):\n",
    "    for epoch in tqdm(range(start_epoch,epochs+1)):\n",
    "        model.train()\n",
    "        batch_losses=[]\n",
    "        if change_lr:\n",
    "            optimizer = change_lr(optimizer, epoch)\n",
    "            \n",
    "        # First train the model through training dataset\n",
    "        train_accuracy = training_metrics[0]\n",
    "        for i, data in enumerate(train_loader):\n",
    "            print(\"Index: {}\".format(i))\n",
    "            x, y = data\n",
    "            optimizer.zero_grad()\n",
    "            x = x.to(device, dtype=torch.float32)\n",
    "            y = y.to(device, dtype=torch.long)\n",
    "            y_hat = model(x)\n",
    "            # Compute accuracy\n",
    "            train_accuracy.update((y_hat, y))\n",
    "            # Compute loss\n",
    "            loss = loss_fn(y_hat, y)\n",
    "            loss.backward()\n",
    "            batch_losses.append(loss.item())\n",
    "            optimizer.step()\n",
    "        train_losses.append(batch_losses)\n",
    "        \n",
    "        # Add Training Accuracy to Summary\n",
    "        computed_train_accuracy = train_accuracy.compute()\n",
    "        summary_writer.add_scalar(\"Training Accuracy\", computed_train_accuracy, epoch)\n",
    "        \n",
    "        # Print Info\n",
    "        print(f'Epoch - {epoch} Train-Loss : {np.mean(train_losses[-1])} Train-Accuracy: {computed_train_accuracy}')\n",
    "        \n",
    "        # Reset Training Accuracy for later use\n",
    "        train_accuracy.reset()\n",
    "        \n",
    "        model.eval()\n",
    "        batch_losses=[]\n",
    "        trace_y = []\n",
    "        trace_yhat = []\n",
    "\n",
    "        # Then evaluate on validation data\n",
    "        for i, data in enumerate(valid_loader):\n",
    "            x, y = data\n",
    "            x = x.to(device, dtype=torch.float32)\n",
    "            y = y.to(device, dtype=torch.long)\n",
    "            y_hat = model(x)\n",
    "            loss = loss_fn(y_hat, y)\n",
    "            trace_y.append(y.cpu().detach().numpy())\n",
    "            trace_yhat.append(y_hat.cpu().detach().numpy())      \n",
    "            batch_losses.append(loss.item())\n",
    "            # Calculate metrics here on validation data\n",
    "            for metric in metrics:\n",
    "                metric.update((torch.from_numpy(trace_yhat[-1]), torch.from_numpy(trace_y[-1])))\n",
    "        valid_losses.append(batch_losses)\n",
    "        trace_y = np.concatenate(trace_y)\n",
    "        trace_yhat = np.concatenate(trace_yhat)\n",
    "        \n",
    "        # Compute metrics here on validation data\n",
    "        print(\"Metric Results:\")\n",
    "        for metric in metrics:\n",
    "            metric_name = metric.__class__.__name__\n",
    "            computed_metric = metric.compute()\n",
    "            if (torch.is_tensor(computed_metric) and len(computed_metric.size()) > 0):\n",
    "                # Must iterate because this is a tensor\n",
    "                for idx, row in enumerate(computed_metric):\n",
    "                    summary_writer.add_scalar(metric_name + f' of {idx}', row, epoch)\n",
    "            else:\n",
    "                # Add Metric to Summary\n",
    "                summary_writer.add_scalar(metric_name, computed_metric, epoch)\n",
    "            print(\"Validation {} is {}\".format(metric_name, computed_metric))\n",
    "        \n",
    "        # Finally reset metrics for next iteration\n",
    "        for metric in metrics:\n",
    "            metric.reset()\n",
    "        \n",
    "        accuracy = np.mean(trace_yhat.argmax(axis=1)==trace_y)\n",
    "\n",
    "        print(f'Epoch - {epoch} Valid-Loss : {np.mean(valid_losses[-1])} Valid-Accuracy : {accuracy}')\n",
    "        \n",
    "        # Finally evaluate on test data\n",
    "        batch_losses=[]\n",
    "        trace_y = []\n",
    "        trace_yhat = []\n",
    "        for i, data in enumerate(test_loader):\n",
    "            x, y = data\n",
    "            x = x.to(device, dtype=torch.float32)\n",
    "            y = y.to(device, dtype=torch.long)\n",
    "            y_hat = model(x)\n",
    "            loss = loss_fn(y_hat, y)\n",
    "            trace_y.append(y.cpu().detach().numpy())\n",
    "            trace_yhat.append(y_hat.cpu().detach().numpy())      \n",
    "            batch_losses.append(loss.item())\n",
    "        trace_y = np.concatenate(trace_y)\n",
    "        trace_yhat = np.concatenate(trace_yhat)\n",
    "\n",
    "        accuracy = np.mean(trace_yhat.argmax(axis=1)==trace_y)\n",
    "\n",
    "        print(f'Epoch - {epoch} Test-Loss : {np.mean(batch_losses)} Test-Accuracy : {accuracy}')\n",
    "        \n",
    "        # Before moving forward, let's flush the summary writer to ensure all data has been written\n",
    "        summary_writer.flush()\n",
    "        \n",
    "        # Save Model Checkpoint\n",
    "        with open('checkpoints/{}_{}.pth'.format(ROOT, epoch), 'wb') as f:\n",
    "            torch.save({\n",
    "                'model_state_dict': resnet_model.state_dict(),\n",
    "                'optimizer_state_dict': optimizer.state_dict(),\n",
    "            }, f)"
   ]
  },
  {
   "cell_type": "code",
   "execution_count": 13,
   "metadata": {},
   "outputs": [
    {
     "name": "stderr",
     "output_type": "stream",
     "text": [
      "\r",
      "  0%|          | 0/50 [00:00<?, ?it/s]"
     ]
    },
    {
     "name": "stdout",
     "output_type": "stream",
     "text": [
      "Index: 0\n",
      "Index: 1\n",
      "Index: 2\n",
      "Index: 3\n",
      "Index: 4\n",
      "Index: 5\n",
      "Index: 6\n",
      "Index: 7\n",
      "Index: 8\n",
      "Index: 9\n",
      "Index: 10\n",
      "Index: 11\n",
      "Epoch - 1 Train-Loss : 0.736886128783226 Train-Accuracy: 0.5694444444444444\n",
      "Metric Results:\n",
      "Validation Accuracy is 0.5666666666666667\n",
      "Validation Precision is tensor([0.5500, 0.6000], dtype=torch.float64)\n",
      "Validation Recall is tensor([0.7333, 0.4000], dtype=torch.float64)\n",
      "Validation MetricsLambda is 0.5542857142857143\n",
      "Epoch - 1 Valid-Loss : 0.7939803898334503 Valid-Accuracy : 0.5666666666666667\n"
     ]
    },
    {
     "name": "stderr",
     "output_type": "stream",
     "text": [
      "\r",
      "  2%|▏         | 1/50 [01:32<1:15:52, 92.90s/it]"
     ]
    },
    {
     "name": "stdout",
     "output_type": "stream",
     "text": [
      "Epoch - 1 Test-Loss : 1.0072740316390991 Test-Accuracy : 0.5222222222222223\n",
      "Index: 0\n",
      "Index: 1\n",
      "Index: 2\n",
      "Index: 3\n",
      "Index: 4\n",
      "Index: 5\n",
      "Index: 6\n",
      "Index: 7\n",
      "Index: 8\n",
      "Index: 9\n",
      "Index: 10\n",
      "Index: 11\n",
      "Epoch - 2 Train-Loss : 0.38847992817560834 Train-Accuracy: 0.8444444444444444\n",
      "Metric Results:\n",
      "Validation Accuracy is 0.6555555555555556\n",
      "Validation Precision is tensor([0.6250, 0.7059], dtype=torch.float64)\n",
      "Validation Recall is tensor([0.7778, 0.5333], dtype=torch.float64)\n",
      "Validation MetricsLambda is 0.650332121819777\n",
      "Epoch - 2 Valid-Loss : 0.754307895898819 Valid-Accuracy : 0.6555555555555556\n"
     ]
    },
    {
     "name": "stderr",
     "output_type": "stream",
     "text": [
      "\r",
      "  4%|▍         | 2/50 [03:06<1:14:22, 92.97s/it]"
     ]
    },
    {
     "name": "stdout",
     "output_type": "stream",
     "text": [
      "Epoch - 2 Test-Loss : 0.8240202963352203 Test-Accuracy : 0.6333333333333333\n",
      "Index: 0\n",
      "Index: 1\n",
      "Index: 2\n",
      "Index: 3\n",
      "Index: 4\n",
      "Index: 5\n",
      "Index: 6\n",
      "Index: 7\n",
      "Index: 8\n",
      "Index: 9\n",
      "Index: 10\n",
      "Index: 11\n",
      "Epoch - 3 Train-Loss : 0.1577031866957744 Train-Accuracy: 0.9388888888888889\n",
      "Metric Results:\n",
      "Validation Accuracy is 0.7333333333333333\n",
      "Validation Precision is tensor([0.6842, 0.8182], dtype=torch.float64)\n",
      "Validation Recall is tensor([0.8667, 0.6000], dtype=torch.float64)\n",
      "Validation MetricsLambda is 0.7285067873303168\n",
      "Epoch - 3 Valid-Loss : 0.8091273903846741 Valid-Accuracy : 0.7333333333333333\n"
     ]
    },
    {
     "name": "stderr",
     "output_type": "stream",
     "text": [
      "\r",
      "  6%|▌         | 3/50 [04:39<1:12:50, 92.99s/it]"
     ]
    },
    {
     "name": "stdout",
     "output_type": "stream",
     "text": [
      "Epoch - 3 Test-Loss : 1.0522231459617615 Test-Accuracy : 0.6333333333333333\n",
      "Index: 0\n",
      "Index: 1\n",
      "Index: 2\n",
      "Index: 3\n",
      "Index: 4\n",
      "Index: 5\n",
      "Index: 6\n",
      "Index: 7\n",
      "Index: 8\n",
      "Index: 9\n",
      "Index: 10\n",
      "Index: 11\n",
      "Epoch - 4 Train-Loss : 0.09196987841278315 Train-Accuracy: 0.9708333333333333\n",
      "Metric Results:\n",
      "Validation Accuracy is 0.6555555555555556\n",
      "Validation Precision is tensor([0.6591, 0.6522], dtype=torch.float64)\n",
      "Validation Recall is tensor([0.6444, 0.6667], dtype=torch.float64)\n",
      "Validation MetricsLambda is 0.6555130262995432\n",
      "Epoch - 4 Valid-Loss : 0.9265658259391785 Valid-Accuracy : 0.6555555555555556\n"
     ]
    },
    {
     "name": "stderr",
     "output_type": "stream",
     "text": [
      "\r",
      "  8%|▊         | 4/50 [06:11<1:11:08, 92.79s/it]"
     ]
    },
    {
     "name": "stdout",
     "output_type": "stream",
     "text": [
      "Epoch - 4 Test-Loss : 1.06585094332695 Test-Accuracy : 0.6444444444444445\n",
      "Index: 0\n",
      "Index: 1\n",
      "Index: 2\n",
      "Index: 3\n",
      "Index: 4\n",
      "Index: 5\n",
      "Index: 6\n",
      "Index: 7\n",
      "Index: 8\n",
      "Index: 9\n",
      "Index: 10\n",
      "Index: 11\n",
      "Epoch - 5 Train-Loss : 0.0856343973428011 Train-Accuracy: 0.9791666666666666\n",
      "Metric Results:\n",
      "Validation Accuracy is 0.7\n",
      "Validation Precision is tensor([0.6607, 0.7647], dtype=torch.float64)\n",
      "Validation Recall is tensor([0.8222, 0.5778], dtype=torch.float64)\n",
      "Validation MetricsLambda is 0.6954505577139991\n",
      "Epoch - 5 Valid-Loss : 1.0516051054000854 Valid-Accuracy : 0.7\n"
     ]
    },
    {
     "name": "stderr",
     "output_type": "stream",
     "text": [
      "\r",
      " 10%|█         | 5/50 [07:44<1:09:33, 92.75s/it]"
     ]
    },
    {
     "name": "stdout",
     "output_type": "stream",
     "text": [
      "Epoch - 5 Test-Loss : 1.5016710758209229 Test-Accuracy : 0.6555555555555556\n",
      "Index: 0\n",
      "Index: 1\n",
      "Index: 2\n",
      "Index: 3\n",
      "Index: 4\n",
      "Index: 5\n",
      "Index: 6\n",
      "Index: 7\n",
      "Index: 8\n",
      "Index: 9\n",
      "Index: 10\n",
      "Index: 11\n",
      "Epoch - 6 Train-Loss : 0.0822878925440212 Train-Accuracy: 0.9694444444444444\n",
      "Metric Results:\n",
      "Validation Accuracy is 0.6555555555555556\n",
      "Validation Precision is tensor([0.6296, 0.6944], dtype=torch.float64)\n",
      "Validation Recall is tensor([0.7556, 0.5556], dtype=torch.float64)\n",
      "Validation MetricsLambda is 0.6520763187429853\n",
      "Epoch - 6 Valid-Loss : 1.263662040233612 Valid-Accuracy : 0.6555555555555556\n"
     ]
    },
    {
     "name": "stderr",
     "output_type": "stream",
     "text": [
      "\r",
      " 12%|█▏        | 6/50 [09:15<1:07:38, 92.23s/it]"
     ]
    },
    {
     "name": "stdout",
     "output_type": "stream",
     "text": [
      "Epoch - 6 Test-Loss : 1.4159727692604065 Test-Accuracy : 0.6333333333333333\n",
      "Index: 0\n",
      "Index: 1\n",
      "Index: 2\n",
      "Index: 3\n",
      "Index: 4\n",
      "Index: 5\n",
      "Index: 6\n",
      "Index: 7\n",
      "Index: 8\n",
      "Index: 9\n",
      "Index: 10\n",
      "Index: 11\n",
      "Epoch - 7 Train-Loss : 0.09811950645719965 Train-Accuracy: 0.9680555555555556\n",
      "Metric Results:\n",
      "Validation Accuracy is 0.6222222222222222\n",
      "Validation Precision is tensor([0.6078, 0.6410], dtype=torch.float64)\n",
      "Validation Recall is tensor([0.6889, 0.5556], dtype=torch.float64)\n",
      "Validation MetricsLambda is 0.6205357142857143\n",
      "Epoch - 7 Valid-Loss : 1.3324450254440308 Valid-Accuracy : 0.6222222222222222\n"
     ]
    },
    {
     "name": "stderr",
     "output_type": "stream",
     "text": [
      "\r",
      " 14%|█▍        | 7/50 [10:49<1:06:36, 92.93s/it]"
     ]
    },
    {
     "name": "stdout",
     "output_type": "stream",
     "text": [
      "Epoch - 7 Test-Loss : 1.7582654356956482 Test-Accuracy : 0.5444444444444444\n",
      "Index: 0\n",
      "Index: 1\n",
      "Index: 2\n",
      "Index: 3\n",
      "Index: 4\n",
      "Index: 5\n",
      "Index: 6\n",
      "Index: 7\n",
      "Index: 8\n",
      "Index: 9\n",
      "Index: 10\n",
      "Index: 11\n",
      "Epoch - 8 Train-Loss : 0.1979428610454003 Train-Accuracy: 0.9416666666666667\n",
      "Metric Results:\n",
      "Validation Accuracy is 0.6555555555555556\n",
      "Validation Precision is tensor([0.6591, 0.6522], dtype=torch.float64)\n",
      "Validation Recall is tensor([0.6444, 0.6667], dtype=torch.float64)\n",
      "Validation MetricsLambda is 0.6555130262995432\n",
      "Epoch - 8 Valid-Loss : 1.6113088726997375 Valid-Accuracy : 0.6555555555555556\n"
     ]
    },
    {
     "name": "stderr",
     "output_type": "stream",
     "text": [
      "\r",
      " 16%|█▌        | 8/50 [12:23<1:05:11, 93.14s/it]"
     ]
    },
    {
     "name": "stdout",
     "output_type": "stream",
     "text": [
      "Epoch - 8 Test-Loss : 1.6978629231452942 Test-Accuracy : 0.6222222222222222\n",
      "Index: 0\n",
      "Index: 1\n",
      "Index: 2\n",
      "Index: 3\n",
      "Index: 4\n",
      "Index: 5\n",
      "Index: 6\n",
      "Index: 7\n",
      "Index: 8\n",
      "Index: 9\n",
      "Index: 10\n",
      "Index: 11\n",
      "Epoch - 9 Train-Loss : 0.22199147442976633 Train-Accuracy: 0.9152777777777777\n",
      "Metric Results:\n",
      "Validation Accuracy is 0.5777777777777777\n",
      "Validation Precision is tensor([0.6000, 0.5636], dtype=torch.float64)\n",
      "Validation Recall is tensor([0.4667, 0.6889], dtype=torch.float64)\n",
      "Validation MetricsLambda is 0.5724999999999999\n",
      "Epoch - 9 Valid-Loss : 1.718271255493164 Valid-Accuracy : 0.5777777777777777\n"
     ]
    },
    {
     "name": "stderr",
     "output_type": "stream",
     "text": [
      "\r",
      " 18%|█▊        | 9/50 [13:50<1:02:31, 91.49s/it]"
     ]
    },
    {
     "name": "stdout",
     "output_type": "stream",
     "text": [
      "Epoch - 9 Test-Loss : 1.577124297618866 Test-Accuracy : 0.5333333333333333\n",
      "Index: 0\n",
      "Index: 1\n",
      "Index: 2\n",
      "Index: 3\n",
      "Index: 4\n",
      "Index: 5\n",
      "Index: 6\n",
      "Index: 7\n",
      "Index: 8\n",
      "Index: 9\n",
      "Index: 10\n",
      "Index: 11\n",
      "Epoch - 10 Train-Loss : 0.19855142446855703 Train-Accuracy: 0.9194444444444444\n",
      "Metric Results:\n",
      "Validation Accuracy is 0.6222222222222222\n",
      "Validation Precision is tensor([0.5873, 0.7037], dtype=torch.float64)\n",
      "Validation Recall is tensor([0.8222, 0.4222], dtype=torch.float64)\n",
      "Validation MetricsLambda is 0.6064814814814814\n",
      "Epoch - 10 Valid-Loss : 1.191803365945816 Valid-Accuracy : 0.6222222222222222\n"
     ]
    },
    {
     "name": "stderr",
     "output_type": "stream",
     "text": [
      "\r",
      " 20%|██        | 10/50 [15:19<1:00:24, 90.60s/it]"
     ]
    },
    {
     "name": "stdout",
     "output_type": "stream",
     "text": [
      "Epoch - 10 Test-Loss : 1.2349821329116821 Test-Accuracy : 0.5888888888888889\n",
      "Index: 0\n",
      "Index: 1\n",
      "Index: 2\n",
      "Index: 3\n",
      "Index: 4\n",
      "Index: 5\n",
      "Index: 6\n",
      "Index: 7\n",
      "Index: 8\n",
      "Index: 9\n",
      "Index: 10\n",
      "Index: 11\n",
      "Epoch - 11 Train-Loss : 0.12215442443266511 Train-Accuracy: 0.9569444444444445\n",
      "Metric Results:\n",
      "Validation Accuracy is 0.6666666666666666\n",
      "Validation Precision is tensor([0.6119, 0.8261], dtype=torch.float64)\n",
      "Validation Recall is tensor([0.9111, 0.4222], dtype=torch.float64)\n",
      "Validation MetricsLambda is 0.6454831932773109\n",
      "Epoch - 11 Valid-Loss : 0.8869109451770782 Valid-Accuracy : 0.6666666666666666\n"
     ]
    },
    {
     "name": "stderr",
     "output_type": "stream",
     "text": [
      "\r",
      " 22%|██▏       | 11/50 [16:47<58:22, 89.81s/it]  "
     ]
    },
    {
     "name": "stdout",
     "output_type": "stream",
     "text": [
      "Epoch - 11 Test-Loss : 1.3633902668952942 Test-Accuracy : 0.6222222222222222\n",
      "Index: 0\n",
      "Index: 1\n",
      "Index: 2\n",
      "Index: 3\n",
      "Index: 4\n",
      "Index: 5\n",
      "Index: 6\n",
      "Index: 7\n",
      "Index: 8\n",
      "Index: 9\n",
      "Index: 10\n",
      "Index: 11\n",
      "Epoch - 12 Train-Loss : 0.09423165395855904 Train-Accuracy: 0.975\n",
      "Metric Results:\n",
      "Validation Accuracy is 0.7\n",
      "Validation Precision is tensor([0.6957, 0.7045], dtype=torch.float64)\n",
      "Validation Recall is tensor([0.7111, 0.6889], dtype=torch.float64)\n",
      "Validation MetricsLambda is 0.6999629583899247\n",
      "Epoch - 12 Valid-Loss : 0.9914036989212036 Valid-Accuracy : 0.7\n"
     ]
    },
    {
     "name": "stderr",
     "output_type": "stream",
     "text": [
      "\r",
      " 24%|██▍       | 12/50 [18:16<56:41, 89.50s/it]"
     ]
    },
    {
     "name": "stdout",
     "output_type": "stream",
     "text": [
      "Epoch - 12 Test-Loss : 1.229246973991394 Test-Accuracy : 0.5777777777777777\n",
      "Index: 0\n",
      "Index: 1\n",
      "Index: 2\n",
      "Index: 3\n",
      "Index: 4\n",
      "Index: 5\n",
      "Index: 6\n",
      "Index: 7\n",
      "Index: 8\n",
      "Index: 9\n",
      "Index: 10\n",
      "Index: 11\n",
      "Epoch - 13 Train-Loss : 0.10815828254756828 Train-Accuracy: 0.9694444444444444\n",
      "Metric Results:\n",
      "Validation Accuracy is 0.6333333333333333\n",
      "Validation Precision is tensor([0.6875, 0.6034], dtype=torch.float64)\n",
      "Validation Recall is tensor([0.4889, 0.7778], dtype=torch.float64)\n",
      "Validation MetricsLambda is 0.6255201109570041\n",
      "Epoch - 13 Valid-Loss : 1.2617965042591095 Valid-Accuracy : 0.6333333333333333\n"
     ]
    },
    {
     "name": "stderr",
     "output_type": "stream",
     "text": [
      "\r",
      " 26%|██▌       | 13/50 [19:43<54:44, 88.78s/it]"
     ]
    },
    {
     "name": "stdout",
     "output_type": "stream",
     "text": [
      "Epoch - 13 Test-Loss : 1.2850439697504044 Test-Accuracy : 0.5777777777777777\n",
      "Index: 0\n",
      "Index: 1\n",
      "Index: 2\n",
      "Index: 3\n",
      "Index: 4\n",
      "Index: 5\n",
      "Index: 6\n",
      "Index: 7\n",
      "Index: 8\n",
      "Index: 9\n",
      "Index: 10\n",
      "Index: 11\n",
      "Epoch - 14 Train-Loss : 0.09605155714477102 Train-Accuracy: 0.9611111111111111\n",
      "Metric Results:\n",
      "Validation Accuracy is 0.6222222222222222\n",
      "Validation Precision is tensor([0.5902, 0.6897], dtype=torch.float64)\n",
      "Validation Recall is tensor([0.8000, 0.4444], dtype=torch.float64)\n",
      "Validation MetricsLambda is 0.6098929117797042\n",
      "Epoch - 14 Valid-Loss : 1.2214903235435486 Valid-Accuracy : 0.6222222222222222\n"
     ]
    },
    {
     "name": "stderr",
     "output_type": "stream",
     "text": [
      "\r",
      " 28%|██▊       | 14/50 [21:15<53:54, 89.85s/it]"
     ]
    },
    {
     "name": "stdout",
     "output_type": "stream",
     "text": [
      "Epoch - 14 Test-Loss : 1.8710915446281433 Test-Accuracy : 0.5333333333333333\n",
      "Index: 0\n",
      "Index: 1\n",
      "Index: 2\n",
      "Index: 3\n",
      "Index: 4\n",
      "Index: 5\n",
      "Index: 6\n",
      "Index: 7\n",
      "Index: 8\n",
      "Index: 9\n",
      "Index: 10\n",
      "Index: 11\n",
      "Epoch - 15 Train-Loss : 0.06771678609463076 Train-Accuracy: 0.9763888888888889\n",
      "Metric Results:\n",
      "Validation Accuracy is 0.6777777777777778\n",
      "Validation Precision is tensor([0.7222, 0.6481], dtype=torch.float64)\n",
      "Validation Recall is tensor([0.5778, 0.7778], dtype=torch.float64)\n",
      "Validation MetricsLambda is 0.6745230078563411\n",
      "Epoch - 15 Valid-Loss : 0.9326987862586975 Valid-Accuracy : 0.6777777777777778\n"
     ]
    },
    {
     "name": "stderr",
     "output_type": "stream",
     "text": [
      "\r",
      " 30%|███       | 15/50 [22:47<52:46, 90.47s/it]"
     ]
    },
    {
     "name": "stdout",
     "output_type": "stream",
     "text": [
      "Epoch - 15 Test-Loss : 1.3488850593566895 Test-Accuracy : 0.5888888888888889\n",
      "Index: 0\n",
      "Index: 1\n",
      "Index: 2\n",
      "Index: 3\n",
      "Index: 4\n",
      "Index: 5\n",
      "Index: 6\n",
      "Index: 7\n",
      "Index: 8\n",
      "Index: 9\n",
      "Index: 10\n",
      "Index: 11\n",
      "Epoch - 16 Train-Loss : 0.04270135258169224 Train-Accuracy: 0.9875\n",
      "Metric Results:\n",
      "Validation Accuracy is 0.6666666666666666\n",
      "Validation Precision is tensor([0.7027, 0.6415], dtype=torch.float64)\n",
      "Validation Recall is tensor([0.5778, 0.7556], dtype=torch.float64)\n",
      "Validation MetricsLambda is 0.6640119462419114\n",
      "Epoch - 16 Valid-Loss : 1.2104469537734985 Valid-Accuracy : 0.6666666666666666\n"
     ]
    },
    {
     "name": "stderr",
     "output_type": "stream",
     "text": [
      "\r",
      " 32%|███▏      | 16/50 [24:19<51:32, 90.96s/it]"
     ]
    },
    {
     "name": "stdout",
     "output_type": "stream",
     "text": [
      "Epoch - 16 Test-Loss : 1.3251279890537262 Test-Accuracy : 0.6333333333333333\n",
      "Index: 0\n",
      "Index: 1\n",
      "Index: 2\n",
      "Index: 3\n",
      "Index: 4\n",
      "Index: 5\n",
      "Index: 6\n",
      "Index: 7\n",
      "Index: 8\n",
      "Index: 9\n",
      "Index: 10\n",
      "Index: 11\n",
      "Epoch - 17 Train-Loss : 0.0439604859566316 Train-Accuracy: 0.9805555555555555\n",
      "Metric Results:\n",
      "Validation Accuracy is 0.6666666666666666\n",
      "Validation Precision is tensor([0.6596, 0.6744], dtype=torch.float64)\n",
      "Validation Recall is tensor([0.6889, 0.6444], dtype=torch.float64)\n",
      "Validation MetricsLambda is 0.666501976284585\n",
      "Epoch - 17 Valid-Loss : 1.0908028185367584 Valid-Accuracy : 0.6666666666666666\n"
     ]
    },
    {
     "name": "stderr",
     "output_type": "stream",
     "text": [
      "\r",
      " 34%|███▍      | 17/50 [25:57<51:08, 93.00s/it]"
     ]
    },
    {
     "name": "stdout",
     "output_type": "stream",
     "text": [
      "Epoch - 17 Test-Loss : 1.2289766073226929 Test-Accuracy : 0.5777777777777777\n",
      "Index: 0\n",
      "Index: 1\n",
      "Index: 2\n",
      "Index: 3\n",
      "Index: 4\n",
      "Index: 5\n",
      "Index: 6\n",
      "Index: 7\n",
      "Index: 8\n",
      "Index: 9\n",
      "Index: 10\n",
      "Index: 11\n",
      "Epoch - 18 Train-Loss : 0.010969802892456451 Train-Accuracy: 0.9986111111111111\n",
      "Metric Results:\n",
      "Validation Accuracy is 0.6777777777777778\n",
      "Validation Precision is tensor([0.7000, 0.6600], dtype=torch.float64)\n",
      "Validation Recall is tensor([0.6222, 0.7333], dtype=torch.float64)\n",
      "Validation MetricsLambda is 0.6767801857585138\n",
      "Epoch - 18 Valid-Loss : 1.171036958694458 Valid-Accuracy : 0.6777777777777778\n"
     ]
    },
    {
     "name": "stderr",
     "output_type": "stream",
     "text": [
      "\r",
      " 36%|███▌      | 18/50 [27:27<49:07, 92.11s/it]"
     ]
    },
    {
     "name": "stdout",
     "output_type": "stream",
     "text": [
      "Epoch - 18 Test-Loss : 1.2234278917312622 Test-Accuracy : 0.6333333333333333\n",
      "Index: 0\n",
      "Index: 1\n",
      "Index: 2\n",
      "Index: 3\n",
      "Index: 4\n",
      "Index: 5\n",
      "Index: 6\n",
      "Index: 7\n",
      "Index: 8\n",
      "Index: 9\n",
      "Index: 10\n",
      "Index: 11\n",
      "Epoch - 19 Train-Loss : 0.018238655136277277 Train-Accuracy: 0.9916666666666667\n",
      "Metric Results:\n",
      "Validation Accuracy is 0.6888888888888889\n",
      "Validation Precision is tensor([0.6809, 0.6977], dtype=torch.float64)\n",
      "Validation Recall is tensor([0.7111, 0.6667], dtype=torch.float64)\n",
      "Validation MetricsLambda is 0.6887351778656127\n",
      "Epoch - 19 Valid-Loss : 1.2266919314861298 Valid-Accuracy : 0.6888888888888889\n"
     ]
    },
    {
     "name": "stderr",
     "output_type": "stream",
     "text": [
      "\r",
      " 38%|███▊      | 19/50 [28:52<46:26, 89.90s/it]"
     ]
    },
    {
     "name": "stdout",
     "output_type": "stream",
     "text": [
      "Epoch - 19 Test-Loss : 1.5586590766906738 Test-Accuracy : 0.6111111111111112\n",
      "Index: 0\n",
      "Index: 1\n",
      "Index: 2\n",
      "Index: 3\n",
      "Index: 4\n",
      "Index: 5\n",
      "Index: 6\n",
      "Index: 7\n",
      "Index: 8\n",
      "Index: 9\n",
      "Index: 10\n",
      "Index: 11\n",
      "Epoch - 20 Train-Loss : 0.010600856534438208 Train-Accuracy: 0.9972222222222222\n",
      "Metric Results:\n",
      "Validation Accuracy is 0.7333333333333333\n",
      "Validation Precision is tensor([0.7561, 0.7143], dtype=torch.float64)\n",
      "Validation Recall is tensor([0.6889, 0.7778], dtype=torch.float64)\n",
      "Validation MetricsLambda is 0.7328055418109847\n",
      "Epoch - 20 Valid-Loss : 1.0352874100208282 Valid-Accuracy : 0.7333333333333333\n"
     ]
    },
    {
     "name": "stderr",
     "output_type": "stream",
     "text": [
      "\r",
      " 40%|████      | 20/50 [30:13<43:42, 87.42s/it]"
     ]
    },
    {
     "name": "stdout",
     "output_type": "stream",
     "text": [
      "Epoch - 20 Test-Loss : 1.6307252645492554 Test-Accuracy : 0.5888888888888889\n",
      "Index: 0\n",
      "Index: 1\n",
      "Index: 2\n",
      "Index: 3\n",
      "Index: 4\n",
      "Index: 5\n",
      "Index: 6\n",
      "Index: 7\n",
      "Index: 8\n",
      "Index: 9\n",
      "Index: 10\n",
      "Index: 11\n",
      "Epoch - 21 Train-Loss : 0.005728484868692855 Train-Accuracy: 0.9986111111111111\n",
      "Metric Results:\n",
      "Validation Accuracy is 0.7666666666666667\n",
      "Validation Precision is tensor([0.7727, 0.7609], dtype=torch.float64)\n",
      "Validation Recall is tensor([0.7556, 0.7778], dtype=torch.float64)\n",
      "Validation MetricsLambda is 0.766637856525497\n",
      "Epoch - 21 Valid-Loss : 1.0217198133468628 Valid-Accuracy : 0.7666666666666667\n"
     ]
    },
    {
     "name": "stderr",
     "output_type": "stream",
     "text": [
      "\r",
      " 42%|████▏     | 21/50 [31:36<41:36, 86.09s/it]"
     ]
    },
    {
     "name": "stdout",
     "output_type": "stream",
     "text": [
      "Epoch - 21 Test-Loss : 1.533493459224701 Test-Accuracy : 0.6222222222222222\n",
      "Index: 0\n",
      "Index: 1\n",
      "Index: 2\n",
      "Index: 3\n",
      "Index: 4\n",
      "Index: 5\n",
      "Index: 6\n",
      "Index: 7\n",
      "Index: 8\n",
      "Index: 9\n",
      "Index: 10\n",
      "Index: 11\n",
      "Epoch - 22 Train-Loss : 0.00853367815822518 Train-Accuracy: 0.9986111111111111\n",
      "Metric Results:\n",
      "Validation Accuracy is 0.7222222222222222\n",
      "Validation Precision is tensor([0.7273, 0.7174], dtype=torch.float64)\n",
      "Validation Recall is tensor([0.7111, 0.7333], dtype=torch.float64)\n",
      "Validation MetricsLambda is 0.7221879244351155\n",
      "Epoch - 22 Valid-Loss : 1.129639983177185 Valid-Accuracy : 0.7222222222222222\n"
     ]
    },
    {
     "name": "stderr",
     "output_type": "stream",
     "text": [
      "\r",
      " 44%|████▍     | 22/50 [32:59<39:41, 85.06s/it]"
     ]
    },
    {
     "name": "stdout",
     "output_type": "stream",
     "text": [
      "Epoch - 22 Test-Loss : 1.3847556710243225 Test-Accuracy : 0.6111111111111112\n",
      "Index: 0\n",
      "Index: 1\n",
      "Index: 2\n",
      "Index: 3\n",
      "Index: 4\n",
      "Index: 5\n",
      "Index: 6\n",
      "Index: 7\n",
      "Index: 8\n",
      "Index: 9\n",
      "Index: 10\n",
      "Index: 11\n",
      "Epoch - 23 Train-Loss : 0.020644907257519662 Train-Accuracy: 0.9944444444444445\n",
      "Metric Results:\n",
      "Validation Accuracy is 0.6888888888888889\n",
      "Validation Precision is tensor([0.6735, 0.7073], dtype=torch.float64)\n",
      "Validation Recall is tensor([0.7333, 0.6444], dtype=torch.float64)\n",
      "Validation MetricsLambda is 0.6882731321128154\n",
      "Epoch - 23 Valid-Loss : 1.383857011795044 Valid-Accuracy : 0.6888888888888889\n"
     ]
    },
    {
     "name": "stderr",
     "output_type": "stream",
     "text": [
      "\r",
      " 46%|████▌     | 23/50 [34:22<37:57, 84.35s/it]"
     ]
    },
    {
     "name": "stdout",
     "output_type": "stream",
     "text": [
      "Epoch - 23 Test-Loss : 1.4490472078323364 Test-Accuracy : 0.6666666666666666\n",
      "Index: 0\n",
      "Index: 1\n",
      "Index: 2\n",
      "Index: 3\n",
      "Index: 4\n",
      "Index: 5\n",
      "Index: 6\n",
      "Index: 7\n",
      "Index: 8\n",
      "Index: 9\n",
      "Index: 10\n",
      "Index: 11\n",
      "Epoch - 24 Train-Loss : 0.08487552598429222 Train-Accuracy: 0.9819444444444444\n",
      "Metric Results:\n",
      "Validation Accuracy is 0.6222222222222222\n",
      "Validation Precision is tensor([0.7037, 0.5873], dtype=torch.float64)\n",
      "Validation Recall is tensor([0.4222, 0.8222], dtype=torch.float64)\n",
      "Validation MetricsLambda is 0.6064814814814814\n",
      "Epoch - 24 Valid-Loss : 1.6370081305503845 Valid-Accuracy : 0.6222222222222222\n"
     ]
    },
    {
     "name": "stderr",
     "output_type": "stream",
     "text": [
      "\r",
      " 48%|████▊     | 24/50 [35:57<37:57, 87.61s/it]"
     ]
    },
    {
     "name": "stdout",
     "output_type": "stream",
     "text": [
      "Epoch - 24 Test-Loss : 1.378982126712799 Test-Accuracy : 0.6777777777777778\n",
      "Index: 0\n",
      "Index: 1\n",
      "Index: 2\n",
      "Index: 3\n",
      "Index: 4\n",
      "Index: 5\n",
      "Index: 6\n",
      "Index: 7\n",
      "Index: 8\n",
      "Index: 9\n",
      "Index: 10\n",
      "Index: 11\n",
      "Epoch - 25 Train-Loss : 0.06026249850401655 Train-Accuracy: 0.9736111111111111\n",
      "Metric Results:\n",
      "Validation Accuracy is 0.6333333333333333\n",
      "Validation Precision is tensor([0.6500, 0.6200], dtype=torch.float64)\n",
      "Validation Recall is tensor([0.5778, 0.6889], dtype=torch.float64)\n",
      "Validation MetricsLambda is 0.6321981424148606\n",
      "Epoch - 25 Valid-Loss : 1.6155750751495361 Valid-Accuracy : 0.6333333333333333\n"
     ]
    },
    {
     "name": "stderr",
     "output_type": "stream",
     "text": [
      "\r",
      " 50%|█████     | 25/50 [37:41<38:37, 92.72s/it]"
     ]
    },
    {
     "name": "stdout",
     "output_type": "stream",
     "text": [
      "Epoch - 25 Test-Loss : 1.0772537887096405 Test-Accuracy : 0.7\n",
      "Index: 0\n",
      "Index: 1\n",
      "Index: 2\n",
      "Index: 3\n",
      "Index: 4\n",
      "Index: 5\n",
      "Index: 6\n",
      "Index: 7\n",
      "Index: 8\n",
      "Index: 9\n",
      "Index: 10\n",
      "Index: 11\n",
      "Epoch - 26 Train-Loss : 0.04098170198267326 Train-Accuracy: 0.9833333333333333\n",
      "Metric Results:\n",
      "Validation Accuracy is 0.6777777777777778\n",
      "Validation Precision is tensor([0.6667, 0.6905], dtype=torch.float64)\n",
      "Validation Recall is tensor([0.7111, 0.6444], dtype=torch.float64)\n",
      "Validation MetricsLambda is 0.6774193548387097\n",
      "Epoch - 26 Valid-Loss : 1.120184063911438 Valid-Accuracy : 0.6777777777777778\n"
     ]
    },
    {
     "name": "stderr",
     "output_type": "stream",
     "text": [
      "\r",
      " 52%|█████▏    | 26/50 [39:29<38:54, 97.26s/it]"
     ]
    },
    {
     "name": "stdout",
     "output_type": "stream",
     "text": [
      "Epoch - 26 Test-Loss : 1.3074324131011963 Test-Accuracy : 0.6444444444444445\n",
      "Index: 0\n",
      "Index: 1\n",
      "Index: 2\n",
      "Index: 3\n",
      "Index: 4\n",
      "Index: 5\n",
      "Index: 6\n",
      "Index: 7\n",
      "Index: 8\n",
      "Index: 9\n",
      "Index: 10\n",
      "Index: 11\n",
      "Epoch - 27 Train-Loss : 0.05767562826319287 Train-Accuracy: 0.9861111111111112\n",
      "Metric Results:\n",
      "Validation Accuracy is 0.6777777777777778\n",
      "Validation Precision is tensor([0.6600, 0.7000], dtype=torch.float64)\n",
      "Validation Recall is tensor([0.7333, 0.6222], dtype=torch.float64)\n",
      "Validation MetricsLambda is 0.6767801857585138\n",
      "Epoch - 27 Valid-Loss : 0.9981785118579865 Valid-Accuracy : 0.6777777777777778\n"
     ]
    },
    {
     "name": "stderr",
     "output_type": "stream",
     "text": [
      "\r",
      " 54%|█████▍    | 27/50 [41:17<38:28, 100.35s/it]"
     ]
    },
    {
     "name": "stdout",
     "output_type": "stream",
     "text": [
      "Epoch - 27 Test-Loss : 1.388759285211563 Test-Accuracy : 0.6444444444444445\n",
      "Index: 0\n",
      "Index: 1\n",
      "Index: 2\n",
      "Index: 3\n",
      "Index: 4\n",
      "Index: 5\n",
      "Index: 6\n",
      "Index: 7\n",
      "Index: 8\n",
      "Index: 9\n",
      "Index: 10\n",
      "Index: 11\n",
      "Epoch - 28 Train-Loss : 0.04469179226240764 Train-Accuracy: 0.9833333333333333\n",
      "Metric Results:\n",
      "Validation Accuracy is 0.7111111111111111\n",
      "Validation Precision is tensor([0.6792, 0.7568], dtype=torch.float64)\n",
      "Validation Recall is tensor([0.8000, 0.6222], dtype=torch.float64)\n",
      "Validation MetricsLambda is 0.7088103534096566\n",
      "Epoch - 28 Valid-Loss : 1.3135976791381836 Valid-Accuracy : 0.7111111111111111\n"
     ]
    },
    {
     "name": "stderr",
     "output_type": "stream",
     "text": [
      "\r",
      " 56%|█████▌    | 28/50 [43:04<37:34, 102.48s/it]"
     ]
    },
    {
     "name": "stdout",
     "output_type": "stream",
     "text": [
      "Epoch - 28 Test-Loss : 1.41141015291214 Test-Accuracy : 0.6666666666666666\n",
      "Index: 0\n",
      "Index: 1\n",
      "Index: 2\n",
      "Index: 3\n",
      "Index: 4\n",
      "Index: 5\n",
      "Index: 6\n",
      "Index: 7\n",
      "Index: 8\n",
      "Index: 9\n",
      "Index: 10\n",
      "Index: 11\n",
      "Epoch - 29 Train-Loss : 0.032392328566250704 Train-Accuracy: 0.9902777777777778\n",
      "Metric Results:\n",
      "Validation Accuracy is 0.7\n",
      "Validation Precision is tensor([0.6607, 0.7647], dtype=torch.float64)\n",
      "Validation Recall is tensor([0.8222, 0.5778], dtype=torch.float64)\n",
      "Validation MetricsLambda is 0.6954505577139991\n",
      "Epoch - 29 Valid-Loss : 1.3382631540298462 Valid-Accuracy : 0.7\n"
     ]
    },
    {
     "name": "stderr",
     "output_type": "stream",
     "text": [
      "\r",
      " 58%|█████▊    | 29/50 [44:58<37:01, 105.79s/it]"
     ]
    },
    {
     "name": "stdout",
     "output_type": "stream",
     "text": [
      "Epoch - 29 Test-Loss : 1.4607139825820923 Test-Accuracy : 0.6777777777777778\n",
      "Index: 0\n",
      "Index: 1\n",
      "Index: 2\n",
      "Index: 3\n",
      "Index: 4\n",
      "Index: 5\n",
      "Index: 6\n",
      "Index: 7\n",
      "Index: 8\n",
      "Index: 9\n",
      "Index: 10\n",
      "Index: 11\n",
      "Epoch - 30 Train-Loss : 0.039202625455800444 Train-Accuracy: 0.9847222222222223\n",
      "Metric Results:\n",
      "Validation Accuracy is 0.7333333333333333\n",
      "Validation Precision is tensor([0.7143, 0.7561], dtype=torch.float64)\n",
      "Validation Recall is tensor([0.7778, 0.6889], dtype=torch.float64)\n",
      "Validation MetricsLambda is 0.7328055418109847\n",
      "Epoch - 30 Valid-Loss : 1.0768945217132568 Valid-Accuracy : 0.7333333333333333\n"
     ]
    },
    {
     "name": "stderr",
     "output_type": "stream",
     "text": [
      "\r",
      " 60%|██████    | 30/50 [46:43<35:13, 105.68s/it]"
     ]
    },
    {
     "name": "stdout",
     "output_type": "stream",
     "text": [
      "Epoch - 30 Test-Loss : 1.312512218952179 Test-Accuracy : 0.6777777777777778\n",
      "Index: 0\n",
      "Index: 1\n",
      "Index: 2\n",
      "Index: 3\n",
      "Index: 4\n",
      "Index: 5\n",
      "Index: 6\n",
      "Index: 7\n",
      "Index: 8\n",
      "Index: 9\n",
      "Index: 10\n",
      "Index: 11\n",
      "Epoch - 31 Train-Loss : 0.03798860428893628 Train-Accuracy: 0.9888888888888889\n",
      "Metric Results:\n",
      "Validation Accuracy is 0.7\n",
      "Validation Precision is tensor([0.6957, 0.7045], dtype=torch.float64)\n",
      "Validation Recall is tensor([0.7111, 0.6889], dtype=torch.float64)\n",
      "Validation MetricsLambda is 0.6999629583899247\n",
      "Epoch - 31 Valid-Loss : 1.2636376023292542 Valid-Accuracy : 0.7\n"
     ]
    },
    {
     "name": "stderr",
     "output_type": "stream",
     "text": [
      "\r",
      " 62%|██████▏   | 31/50 [48:27<33:15, 105.04s/it]"
     ]
    },
    {
     "name": "stdout",
     "output_type": "stream",
     "text": [
      "Epoch - 31 Test-Loss : 1.839088499546051 Test-Accuracy : 0.6333333333333333\n",
      "Index: 0\n",
      "Index: 1\n",
      "Index: 2\n",
      "Index: 3\n",
      "Index: 4\n",
      "Index: 5\n",
      "Index: 6\n",
      "Index: 7\n",
      "Index: 8\n",
      "Index: 9\n",
      "Index: 10\n",
      "Index: 11\n",
      "Epoch - 32 Train-Loss : 0.049557203717995435 Train-Accuracy: 0.9916666666666667\n",
      "Metric Results:\n",
      "Validation Accuracy is 0.7111111111111111\n",
      "Validation Precision is tensor([0.6939, 0.7317], dtype=torch.float64)\n",
      "Validation Recall is tensor([0.7556, 0.6667], dtype=torch.float64)\n",
      "Validation MetricsLambda is 0.7105393369619\n",
      "Epoch - 32 Valid-Loss : 1.0395680665969849 Valid-Accuracy : 0.7111111111111111\n"
     ]
    },
    {
     "name": "stderr",
     "output_type": "stream",
     "text": [
      "\r",
      " 64%|██████▍   | 32/50 [50:15<31:46, 105.91s/it]"
     ]
    },
    {
     "name": "stdout",
     "output_type": "stream",
     "text": [
      "Epoch - 32 Test-Loss : 1.7931312322616577 Test-Accuracy : 0.6444444444444445\n",
      "Index: 0\n",
      "Index: 1\n",
      "Index: 2\n",
      "Index: 3\n",
      "Index: 4\n",
      "Index: 5\n",
      "Index: 6\n",
      "Index: 7\n",
      "Index: 8\n",
      "Index: 9\n",
      "Index: 10\n",
      "Index: 11\n",
      "Epoch - 33 Train-Loss : 0.11675000990120073 Train-Accuracy: 0.9666666666666667\n",
      "Metric Results:\n",
      "Validation Accuracy is 0.6555555555555556\n",
      "Validation Precision is tensor([0.6296, 0.6944], dtype=torch.float64)\n",
      "Validation Recall is tensor([0.7556, 0.5556], dtype=torch.float64)\n",
      "Validation MetricsLambda is 0.6520763187429853\n",
      "Epoch - 33 Valid-Loss : 1.5568135380744934 Valid-Accuracy : 0.6555555555555556\n"
     ]
    },
    {
     "name": "stderr",
     "output_type": "stream",
     "text": [
      "\r",
      " 66%|██████▌   | 33/50 [52:04<30:16, 106.83s/it]"
     ]
    },
    {
     "name": "stdout",
     "output_type": "stream",
     "text": [
      "Epoch - 33 Test-Loss : 2.228974223136902 Test-Accuracy : 0.6555555555555556\n",
      "Index: 0\n",
      "Index: 1\n",
      "Index: 2\n",
      "Index: 3\n",
      "Index: 4\n",
      "Index: 5\n",
      "Index: 6\n",
      "Index: 7\n",
      "Index: 8\n",
      "Index: 9\n",
      "Index: 10\n",
      "Index: 11\n",
      "Epoch - 34 Train-Loss : 0.1580074888188392 Train-Accuracy: 0.95\n",
      "Metric Results:\n",
      "Validation Accuracy is 0.6111111111111112\n",
      "Validation Precision is tensor([0.6786, 0.5806], dtype=torch.float64)\n",
      "Validation Recall is tensor([0.4222, 0.8000], dtype=torch.float64)\n",
      "Validation MetricsLambda is 0.5967225707335808\n",
      "Epoch - 34 Valid-Loss : 2.454020380973816 Valid-Accuracy : 0.6111111111111112\n"
     ]
    },
    {
     "name": "stderr",
     "output_type": "stream",
     "text": [
      "\r",
      " 68%|██████▊   | 34/50 [53:52<28:36, 107.25s/it]"
     ]
    },
    {
     "name": "stdout",
     "output_type": "stream",
     "text": [
      "Epoch - 34 Test-Loss : 1.3677656650543213 Test-Accuracy : 0.6444444444444445\n",
      "Index: 0\n",
      "Index: 1\n",
      "Index: 2\n",
      "Index: 3\n",
      "Index: 4\n",
      "Index: 5\n",
      "Index: 6\n",
      "Index: 7\n",
      "Index: 8\n",
      "Index: 9\n",
      "Index: 10\n",
      "Index: 11\n",
      "Epoch - 35 Train-Loss : 0.11255243482689063 Train-Accuracy: 0.9597222222222223\n",
      "Metric Results:\n",
      "Validation Accuracy is 0.6444444444444445\n",
      "Validation Precision is tensor([0.7600, 0.6000], dtype=torch.float64)\n",
      "Validation Recall is tensor([0.4222, 0.8667], dtype=torch.float64)\n",
      "Validation MetricsLambda is 0.625974025974026\n",
      "Epoch - 35 Valid-Loss : 1.9629383087158203 Valid-Accuracy : 0.6444444444444445\n"
     ]
    },
    {
     "name": "stderr",
     "output_type": "stream",
     "text": [
      "\r",
      " 70%|███████   | 35/50 [55:44<27:10, 108.71s/it]"
     ]
    },
    {
     "name": "stdout",
     "output_type": "stream",
     "text": [
      "Epoch - 35 Test-Loss : 1.1417442560195923 Test-Accuracy : 0.6444444444444445\n",
      "Index: 0\n",
      "Index: 1\n",
      "Index: 2\n",
      "Index: 3\n",
      "Index: 4\n",
      "Index: 5\n",
      "Index: 6\n",
      "Index: 7\n",
      "Index: 8\n",
      "Index: 9\n",
      "Index: 10\n",
      "Index: 11\n",
      "Epoch - 36 Train-Loss : 0.05443386314436793 Train-Accuracy: 0.9847222222222223\n",
      "Metric Results:\n",
      "Validation Accuracy is 0.6555555555555556\n",
      "Validation Precision is tensor([0.7188, 0.6207], dtype=torch.float64)\n",
      "Validation Recall is tensor([0.5111, 0.8000], dtype=torch.float64)\n",
      "Validation MetricsLambda is 0.6482158618080949\n",
      "Epoch - 36 Valid-Loss : 1.1558018922805786 Valid-Accuracy : 0.6555555555555556\n"
     ]
    },
    {
     "name": "stderr",
     "output_type": "stream",
     "text": [
      "\r",
      " 72%|███████▏  | 36/50 [57:34<25:26, 109.04s/it]"
     ]
    },
    {
     "name": "stdout",
     "output_type": "stream",
     "text": [
      "Epoch - 36 Test-Loss : 1.0063865035772324 Test-Accuracy : 0.6777777777777778\n",
      "Index: 0\n",
      "Index: 1\n",
      "Index: 2\n",
      "Index: 3\n",
      "Index: 4\n",
      "Index: 5\n",
      "Index: 6\n",
      "Index: 7\n",
      "Index: 8\n",
      "Index: 9\n",
      "Index: 10\n",
      "Index: 11\n",
      "Epoch - 37 Train-Loss : 0.02697819626579682 Train-Accuracy: 0.9930555555555556\n",
      "Metric Results:\n",
      "Validation Accuracy is 0.6888888888888889\n",
      "Validation Precision is tensor([0.6667, 0.7179], dtype=torch.float64)\n",
      "Validation Recall is tensor([0.7556, 0.6222], dtype=torch.float64)\n",
      "Validation MetricsLambda is 0.6875\n",
      "Epoch - 37 Valid-Loss : 0.9543869495391846 Valid-Accuracy : 0.6888888888888889\n"
     ]
    },
    {
     "name": "stderr",
     "output_type": "stream",
     "text": [
      "\r",
      " 74%|███████▍  | 37/50 [59:24<23:43, 109.47s/it]"
     ]
    },
    {
     "name": "stdout",
     "output_type": "stream",
     "text": [
      "Epoch - 37 Test-Loss : 0.8969849944114685 Test-Accuracy : 0.7111111111111111\n",
      "Index: 0\n",
      "Index: 1\n",
      "Index: 2\n",
      "Index: 3\n",
      "Index: 4\n",
      "Index: 5\n",
      "Index: 6\n",
      "Index: 7\n",
      "Index: 8\n",
      "Index: 9\n",
      "Index: 10\n",
      "Index: 11\n",
      "Epoch - 38 Train-Loss : 0.02495676197577268 Train-Accuracy: 0.9902777777777778\n",
      "Metric Results:\n",
      "Validation Accuracy is 0.7333333333333333\n",
      "Validation Precision is tensor([0.6981, 0.7838], dtype=torch.float64)\n",
      "Validation Recall is tensor([0.8222, 0.6444], dtype=torch.float64)\n",
      "Validation MetricsLambda is 0.7312095569935292\n",
      "Epoch - 38 Valid-Loss : 0.956495076417923 Valid-Accuracy : 0.7333333333333333\n"
     ]
    },
    {
     "name": "stderr",
     "output_type": "stream",
     "text": [
      "\r",
      " 76%|███████▌  | 38/50 [1:01:13<21:49, 109.13s/it]"
     ]
    },
    {
     "name": "stdout",
     "output_type": "stream",
     "text": [
      "Epoch - 38 Test-Loss : 0.8862795531749725 Test-Accuracy : 0.7333333333333333\n",
      "Index: 0\n",
      "Index: 1\n",
      "Index: 2\n",
      "Index: 3\n",
      "Index: 4\n",
      "Index: 5\n",
      "Index: 6\n",
      "Index: 7\n",
      "Index: 8\n",
      "Index: 9\n",
      "Index: 10\n",
      "Index: 11\n",
      "Epoch - 39 Train-Loss : 0.020765681149593245 Train-Accuracy: 0.9972222222222222\n",
      "Metric Results:\n",
      "Validation Accuracy is 0.7111111111111111\n",
      "Validation Precision is tensor([0.6792, 0.7568], dtype=torch.float64)\n",
      "Validation Recall is tensor([0.8000, 0.6222], dtype=torch.float64)\n",
      "Validation MetricsLambda is 0.7088103534096566\n",
      "Epoch - 39 Valid-Loss : 1.3906996250152588 Valid-Accuracy : 0.7111111111111111\n"
     ]
    },
    {
     "name": "stderr",
     "output_type": "stream",
     "text": [
      "\r",
      " 78%|███████▊  | 39/50 [1:03:00<19:54, 108.59s/it]"
     ]
    },
    {
     "name": "stdout",
     "output_type": "stream",
     "text": [
      "Epoch - 39 Test-Loss : 1.00288125872612 Test-Accuracy : 0.7222222222222222\n",
      "Index: 0\n",
      "Index: 1\n",
      "Index: 2\n",
      "Index: 3\n",
      "Index: 4\n",
      "Index: 5\n",
      "Index: 6\n",
      "Index: 7\n",
      "Index: 8\n",
      "Index: 9\n",
      "Index: 10\n",
      "Index: 11\n",
      "Epoch - 40 Train-Loss : 0.010749243471461037 Train-Accuracy: 0.9972222222222222\n",
      "Metric Results:\n",
      "Validation Accuracy is 0.7111111111111111\n",
      "Validation Precision is tensor([0.6863, 0.7436], dtype=torch.float64)\n",
      "Validation Recall is tensor([0.7778, 0.6444], dtype=torch.float64)\n",
      "Validation MetricsLambda is 0.7098214285714286\n",
      "Epoch - 40 Valid-Loss : 1.0004977583885193 Valid-Accuracy : 0.7111111111111111\n"
     ]
    },
    {
     "name": "stderr",
     "output_type": "stream",
     "text": [
      "\r",
      " 80%|████████  | 40/50 [1:04:48<18:04, 108.45s/it]"
     ]
    },
    {
     "name": "stdout",
     "output_type": "stream",
     "text": [
      "Epoch - 40 Test-Loss : 0.9755014479160309 Test-Accuracy : 0.7222222222222222\n",
      "Index: 0\n",
      "Index: 1\n",
      "Index: 2\n",
      "Index: 3\n",
      "Index: 4\n",
      "Index: 5\n",
      "Index: 6\n",
      "Index: 7\n",
      "Index: 8\n",
      "Index: 9\n",
      "Index: 10\n",
      "Index: 11\n",
      "Epoch - 41 Train-Loss : 0.004467123464564793 Train-Accuracy: 1.0\n",
      "Metric Results:\n",
      "Validation Accuracy is 0.7\n",
      "Validation Precision is tensor([0.6800, 0.7250], dtype=torch.float64)\n",
      "Validation Recall is tensor([0.7556, 0.6444], dtype=torch.float64)\n",
      "Validation MetricsLambda is 0.6990712074303405\n",
      "Epoch - 41 Valid-Loss : 1.0786865055561066 Valid-Accuracy : 0.7\n"
     ]
    },
    {
     "name": "stderr",
     "output_type": "stream",
     "text": [
      "\r",
      " 82%|████████▏ | 41/50 [1:06:35<16:10, 107.86s/it]"
     ]
    },
    {
     "name": "stdout",
     "output_type": "stream",
     "text": [
      "Epoch - 41 Test-Loss : 1.0544663667678833 Test-Accuracy : 0.7111111111111111\n",
      "Index: 0\n",
      "Index: 1\n",
      "Index: 2\n",
      "Index: 3\n",
      "Index: 4\n",
      "Index: 5\n",
      "Index: 6\n",
      "Index: 7\n",
      "Index: 8\n",
      "Index: 9\n",
      "Index: 10\n",
      "Index: 11\n",
      "Epoch - 42 Train-Loss : 0.004065337285283022 Train-Accuracy: 0.9986111111111111\n",
      "Metric Results:\n",
      "Validation Accuracy is 0.6888888888888889\n",
      "Validation Precision is tensor([0.6809, 0.6977], dtype=torch.float64)\n",
      "Validation Recall is tensor([0.7111, 0.6667], dtype=torch.float64)\n",
      "Validation MetricsLambda is 0.6887351778656127\n",
      "Epoch - 42 Valid-Loss : 1.121255874633789 Valid-Accuracy : 0.6888888888888889\n"
     ]
    },
    {
     "name": "stderr",
     "output_type": "stream",
     "text": [
      "\r",
      " 84%|████████▍ | 42/50 [1:08:24<14:25, 108.16s/it]"
     ]
    },
    {
     "name": "stdout",
     "output_type": "stream",
     "text": [
      "Epoch - 42 Test-Loss : 1.0573782622814178 Test-Accuracy : 0.7222222222222222\n",
      "Index: 0\n",
      "Index: 1\n",
      "Index: 2\n",
      "Index: 3\n",
      "Index: 4\n",
      "Index: 5\n",
      "Index: 6\n",
      "Index: 7\n",
      "Index: 8\n",
      "Index: 9\n",
      "Index: 10\n",
      "Index: 11\n",
      "Epoch - 43 Train-Loss : 0.0024170748511096463 Train-Accuracy: 1.0\n",
      "Metric Results:\n",
      "Validation Accuracy is 0.6555555555555556\n",
      "Validation Precision is tensor([0.6522, 0.6591], dtype=torch.float64)\n",
      "Validation Recall is tensor([0.6667, 0.6444], dtype=torch.float64)\n",
      "Validation MetricsLambda is 0.6555130262995432\n",
      "Epoch - 43 Valid-Loss : 0.9993225336074829 Valid-Accuracy : 0.6555555555555556\n"
     ]
    },
    {
     "name": "stderr",
     "output_type": "stream",
     "text": [
      "\r",
      " 86%|████████▌ | 43/50 [1:10:08<12:28, 106.92s/it]"
     ]
    },
    {
     "name": "stdout",
     "output_type": "stream",
     "text": [
      "Epoch - 43 Test-Loss : 0.991545557975769 Test-Accuracy : 0.7222222222222222\n",
      "Index: 0\n",
      "Index: 1\n",
      "Index: 2\n",
      "Index: 3\n",
      "Index: 4\n",
      "Index: 5\n",
      "Index: 6\n",
      "Index: 7\n",
      "Index: 8\n",
      "Index: 9\n",
      "Index: 10\n",
      "Index: 11\n",
      "Epoch - 44 Train-Loss : 0.009331856039352715 Train-Accuracy: 0.9972222222222222\n",
      "Metric Results:\n",
      "Validation Accuracy is 0.6777777777777778\n",
      "Validation Precision is tensor([0.6481, 0.7222], dtype=torch.float64)\n",
      "Validation Recall is tensor([0.7778, 0.5778], dtype=torch.float64)\n",
      "Validation MetricsLambda is 0.6745230078563411\n",
      "Epoch - 44 Valid-Loss : 1.3061273694038391 Valid-Accuracy : 0.6777777777777778\n"
     ]
    },
    {
     "name": "stderr",
     "output_type": "stream",
     "text": [
      "\r",
      " 88%|████████▊ | 44/50 [1:11:53<10:39, 106.59s/it]"
     ]
    },
    {
     "name": "stdout",
     "output_type": "stream",
     "text": [
      "Epoch - 44 Test-Loss : 0.932915210723877 Test-Accuracy : 0.6777777777777778\n",
      "Index: 0\n",
      "Index: 1\n",
      "Index: 2\n",
      "Index: 3\n",
      "Index: 4\n",
      "Index: 5\n",
      "Index: 6\n",
      "Index: 7\n",
      "Index: 8\n",
      "Index: 9\n",
      "Index: 10\n",
      "Index: 11\n",
      "Epoch - 45 Train-Loss : 0.0014110593425963696 Train-Accuracy: 1.0\n",
      "Metric Results:\n",
      "Validation Accuracy is 0.7\n",
      "Validation Precision is tensor([0.6875, 0.7143], dtype=torch.float64)\n",
      "Validation Recall is tensor([0.7333, 0.6667], dtype=torch.float64)\n",
      "Validation MetricsLambda is 0.6996662958843158\n",
      "Epoch - 45 Valid-Loss : 1.0211907625198364 Valid-Accuracy : 0.7\n"
     ]
    },
    {
     "name": "stderr",
     "output_type": "stream",
     "text": [
      "\r",
      " 90%|█████████ | 45/50 [1:13:41<08:54, 106.89s/it]"
     ]
    },
    {
     "name": "stdout",
     "output_type": "stream",
     "text": [
      "Epoch - 45 Test-Loss : 0.8823501169681549 Test-Accuracy : 0.7222222222222222\n",
      "Index: 0\n",
      "Index: 1\n",
      "Index: 2\n",
      "Index: 3\n",
      "Index: 4\n",
      "Index: 5\n",
      "Index: 6\n",
      "Index: 7\n",
      "Index: 8\n",
      "Index: 9\n",
      "Index: 10\n",
      "Index: 11\n",
      "Epoch - 46 Train-Loss : 0.06902735480495419 Train-Accuracy: 0.9916666666666667\n",
      "Metric Results:\n",
      "Validation Accuracy is 0.7111111111111111\n",
      "Validation Precision is tensor([0.7111, 0.7111], dtype=torch.float64)\n",
      "Validation Recall is tensor([0.7111, 0.7111], dtype=torch.float64)\n",
      "Validation MetricsLambda is 0.7111111111111111\n",
      "Epoch - 46 Valid-Loss : 1.18875253200531 Valid-Accuracy : 0.7111111111111111\n"
     ]
    },
    {
     "name": "stderr",
     "output_type": "stream",
     "text": [
      "\r",
      " 92%|█████████▏| 46/50 [1:15:27<07:06, 106.69s/it]"
     ]
    },
    {
     "name": "stdout",
     "output_type": "stream",
     "text": [
      "Epoch - 46 Test-Loss : 0.9882940948009491 Test-Accuracy : 0.7222222222222222\n",
      "Index: 0\n",
      "Index: 1\n",
      "Index: 2\n",
      "Index: 3\n",
      "Index: 4\n",
      "Index: 5\n",
      "Index: 6\n",
      "Index: 7\n",
      "Index: 8\n",
      "Index: 9\n",
      "Index: 10\n",
      "Index: 11\n",
      "Epoch - 47 Train-Loss : 0.13029867191410935 Train-Accuracy: 0.9569444444444445\n",
      "Metric Results:\n",
      "Validation Accuracy is 0.6333333333333333\n",
      "Validation Precision is tensor([0.6200, 0.6500], dtype=torch.float64)\n",
      "Validation Recall is tensor([0.6889, 0.5778], dtype=torch.float64)\n",
      "Validation MetricsLambda is 0.6321981424148606\n",
      "Epoch - 47 Valid-Loss : 1.702747881412506 Valid-Accuracy : 0.6333333333333333\n"
     ]
    },
    {
     "name": "stderr",
     "output_type": "stream",
     "text": [
      "\r",
      " 94%|█████████▍| 47/50 [1:17:13<05:19, 106.49s/it]"
     ]
    },
    {
     "name": "stdout",
     "output_type": "stream",
     "text": [
      "Epoch - 47 Test-Loss : 1.811972975730896 Test-Accuracy : 0.7222222222222222\n",
      "Index: 0\n",
      "Index: 1\n",
      "Index: 2\n",
      "Index: 3\n",
      "Index: 4\n",
      "Index: 5\n",
      "Index: 6\n",
      "Index: 7\n",
      "Index: 8\n",
      "Index: 9\n",
      "Index: 10\n",
      "Index: 11\n",
      "Epoch - 48 Train-Loss : 0.10487414089341958 Train-Accuracy: 0.9680555555555556\n",
      "Metric Results:\n",
      "Validation Accuracy is 0.5777777777777777\n",
      "Validation Precision is tensor([0.5745, 0.5814], dtype=torch.float64)\n",
      "Validation Recall is tensor([0.6000, 0.5556], dtype=torch.float64)\n",
      "Validation MetricsLambda is 0.5775691699604744\n",
      "Epoch - 48 Valid-Loss : 1.9904146790504456 Valid-Accuracy : 0.5777777777777777\n"
     ]
    },
    {
     "name": "stderr",
     "output_type": "stream",
     "text": [
      "\r",
      " 96%|█████████▌| 48/50 [1:19:01<03:34, 107.01s/it]"
     ]
    },
    {
     "name": "stdout",
     "output_type": "stream",
     "text": [
      "Epoch - 48 Test-Loss : 1.5053848028182983 Test-Accuracy : 0.6444444444444445\n",
      "Index: 0\n",
      "Index: 1\n",
      "Index: 2\n",
      "Index: 3\n",
      "Index: 4\n",
      "Index: 5\n",
      "Index: 6\n",
      "Index: 7\n",
      "Index: 8\n",
      "Index: 9\n",
      "Index: 10\n",
      "Index: 11\n",
      "Epoch - 49 Train-Loss : 0.11847451383558412 Train-Accuracy: 0.9861111111111112\n",
      "Metric Results:\n",
      "Validation Accuracy is 0.5777777777777777\n",
      "Validation Precision is tensor([0.5778, 0.5778], dtype=torch.float64)\n",
      "Validation Recall is tensor([0.5778, 0.5778], dtype=torch.float64)\n",
      "Validation MetricsLambda is 0.5777777777777777\n",
      "Epoch - 49 Valid-Loss : 1.7363225817680359 Valid-Accuracy : 0.5777777777777777\n"
     ]
    },
    {
     "name": "stderr",
     "output_type": "stream",
     "text": [
      "\r",
      " 98%|█████████▊| 49/50 [1:20:51<01:47, 107.91s/it]"
     ]
    },
    {
     "name": "stdout",
     "output_type": "stream",
     "text": [
      "Epoch - 49 Test-Loss : 2.0208215713500977 Test-Accuracy : 0.5888888888888889\n",
      "Index: 0\n",
      "Index: 1\n",
      "Index: 2\n",
      "Index: 3\n",
      "Index: 4\n",
      "Index: 5\n",
      "Index: 6\n",
      "Index: 7\n",
      "Index: 8\n",
      "Index: 9\n",
      "Index: 10\n",
      "Index: 11\n",
      "Epoch - 50 Train-Loss : 0.1272269010078162 Train-Accuracy: 0.9569444444444445\n",
      "Metric Results:\n",
      "Validation Accuracy is 0.6777777777777778\n",
      "Validation Precision is tensor([0.6818, 0.6739], dtype=torch.float64)\n",
      "Validation Recall is tensor([0.6667, 0.6889], dtype=torch.float64)\n",
      "Validation MetricsLambda is 0.6777379923447339\n",
      "Epoch - 50 Valid-Loss : 0.9523112177848816 Valid-Accuracy : 0.6777777777777778\n"
     ]
    },
    {
     "name": "stderr",
     "output_type": "stream",
     "text": [
      "100%|██████████| 50/50 [1:22:38<00:00, 99.18s/it] "
     ]
    },
    {
     "name": "stdout",
     "output_type": "stream",
     "text": [
      "Epoch - 50 Test-Loss : 1.242373526096344 Test-Accuracy : 0.6333333333333333\n"
     ]
    },
    {
     "name": "stderr",
     "output_type": "stream",
     "text": [
      "\n"
     ]
    }
   ],
   "source": [
    "train(resnet_model, loss_fn, train_loader, valid_loader, epochs, optimizer, resnet_train_losses, resnet_valid_losses)"
   ]
  },
  {
   "cell_type": "code",
   "execution_count": 14,
   "metadata": {},
   "outputs": [],
   "source": [
    "# Finalize the Summary after Training\n",
    "summary_writer.close()"
   ]
  },
  {
   "cell_type": "markdown",
   "metadata": {},
   "source": [
    "# Review Statistics on Test Set\n",
    "Including: AUC, Recall, F1, and Precision"
   ]
  },
  {
   "cell_type": "code",
   "execution_count": null,
   "metadata": {},
   "outputs": [],
   "source": [
    "# Compute AUC\n",
    "\n",
    "# Compute Recall\n",
    "\n",
    "# Compute F1\n",
    "\n",
    "# Compute Precision"
   ]
  },
  {
   "cell_type": "markdown",
   "metadata": {},
   "source": [
    "# Save & Load Model"
   ]
  },
  {
   "cell_type": "markdown",
   "metadata": {},
   "source": [
    "## Inference Strategy\n",
    "Use this one if you're only trying to save a model for future predictions / inferences (no need to train it further)"
   ]
  },
  {
   "cell_type": "code",
   "execution_count": null,
   "metadata": {},
   "outputs": [],
   "source": [
    "# Inference strategy\n",
    "with open('coughmodel_resnet_wavegan_50.pth','wb') as f:\n",
    "    torch.save(resnet_model, f)"
   ]
  },
  {
   "cell_type": "markdown",
   "metadata": {},
   "source": [
    "## Checkpoint Strategy (Recommended)\n",
    "Use this one if you'd like to save a model for future training"
   ]
  },
  {
   "cell_type": "code",
   "execution_count": null,
   "metadata": {},
   "outputs": [],
   "source": [
    "# Checkpoint strategy\n",
    "# https://pytorch.org/tutorials/beginner/saving_loading_models.html#saving-loading-a-general-checkpoint-for-inference-and-or-resuming-training\n",
    "with open('checkpoints/{}_{}.pth'.format(ROOT, epoch), 'wb') as f:\n",
    "    torch.save({\n",
    "        'model_state_dict': resnet_model.state_dict(),\n",
    "        'optimizer_state_dict': optimizer.state_dict(),\n",
    "    }, f)\n",
    "checkpoint = torch.load('checkpoints/{}_{}.pth')"
   ]
  },
  {
   "cell_type": "code",
   "execution_count": null,
   "metadata": {},
   "outputs": [],
   "source": [
    "import matplotlib.pyplot as plt\n",
    "\n",
    "tl = np.asarray(resnet_train_losses).ravel()\n",
    "vl = np.asarray(resnet_valid_losses).ravel()\n",
    "plt.figure(figsize=(12,6))\n",
    "plt.subplot(1,2,1)\n",
    "plt.plot(tl)\n",
    "plt.legend(['Train Loss'])\n",
    "plt.subplot(1,2,2)\n",
    "plt.plot(vl,'orange')\n",
    "plt.legend(['Valid Loss'])"
   ]
  },
  {
   "cell_type": "code",
   "execution_count": null,
   "metadata": {},
   "outputs": [],
   "source": []
  },
  {
   "cell_type": "code",
   "execution_count": null,
   "metadata": {},
   "outputs": [],
   "source": []
  }
 ],
 "metadata": {
  "kernelspec": {
   "display_name": "Python 3",
   "language": "python",
   "name": "python3"
  },
  "language_info": {
   "codemirror_mode": {
    "name": "ipython",
    "version": 3
   },
   "file_extension": ".py",
   "mimetype": "text/x-python",
   "name": "python",
   "nbconvert_exporter": "python",
   "pygments_lexer": "ipython3",
   "version": "3.7.4"
  }
 },
 "nbformat": 4,
 "nbformat_minor": 4
}
